{
 "cells": [
  {
   "attachments": {},
   "cell_type": "markdown",
   "metadata": {},
   "source": [
    "# import the data"
   ]
  },
  {
   "attachments": {},
   "cell_type": "markdown",
   "metadata": {},
   "source": [
    "$$\n",
    "f=x^2 + \\sqrt {y} + z\n",
    "$$"
   ]
  },
  {
   "cell_type": "code",
   "execution_count": 704,
   "metadata": {},
   "outputs": [],
   "source": [
    "import pandas as pd"
   ]
  },
  {
   "cell_type": "code",
   "execution_count": 705,
   "metadata": {},
   "outputs": [
    {
     "data": {
      "text/html": [
       "<div>\n",
       "<style scoped>\n",
       "    .dataframe tbody tr th:only-of-type {\n",
       "        vertical-align: middle;\n",
       "    }\n",
       "\n",
       "    .dataframe tbody tr th {\n",
       "        vertical-align: top;\n",
       "    }\n",
       "\n",
       "    .dataframe thead th {\n",
       "        text-align: right;\n",
       "    }\n",
       "</style>\n",
       "<table border=\"1\" class=\"dataframe\">\n",
       "  <thead>\n",
       "    <tr style=\"text-align: right;\">\n",
       "      <th></th>\n",
       "      <th>x</th>\n",
       "      <th>y</th>\n",
       "      <th>z</th>\n",
       "      <th>f</th>\n",
       "    </tr>\n",
       "  </thead>\n",
       "  <tbody>\n",
       "    <tr>\n",
       "      <th>0</th>\n",
       "      <td>0.876300</td>\n",
       "      <td>0.087160</td>\n",
       "      <td>0.678294</td>\n",
       "      <td>1.741426</td>\n",
       "    </tr>\n",
       "    <tr>\n",
       "      <th>1</th>\n",
       "      <td>0.506543</td>\n",
       "      <td>0.427771</td>\n",
       "      <td>0.117943</td>\n",
       "      <td>1.028571</td>\n",
       "    </tr>\n",
       "    <tr>\n",
       "      <th>2</th>\n",
       "      <td>0.469181</td>\n",
       "      <td>0.208947</td>\n",
       "      <td>0.862431</td>\n",
       "      <td>1.539668</td>\n",
       "    </tr>\n",
       "    <tr>\n",
       "      <th>3</th>\n",
       "      <td>0.997632</td>\n",
       "      <td>0.038999</td>\n",
       "      <td>0.628393</td>\n",
       "      <td>1.821145</td>\n",
       "    </tr>\n",
       "    <tr>\n",
       "      <th>4</th>\n",
       "      <td>0.680144</td>\n",
       "      <td>0.432733</td>\n",
       "      <td>0.571025</td>\n",
       "      <td>1.691445</td>\n",
       "    </tr>\n",
       "    <tr>\n",
       "      <th>...</th>\n",
       "      <td>...</td>\n",
       "      <td>...</td>\n",
       "      <td>...</td>\n",
       "      <td>...</td>\n",
       "    </tr>\n",
       "    <tr>\n",
       "      <th>569</th>\n",
       "      <td>0.213704</td>\n",
       "      <td>0.183989</td>\n",
       "      <td>0.577722</td>\n",
       "      <td>1.052330</td>\n",
       "    </tr>\n",
       "    <tr>\n",
       "      <th>570</th>\n",
       "      <td>0.727660</td>\n",
       "      <td>0.021602</td>\n",
       "      <td>0.820556</td>\n",
       "      <td>1.497021</td>\n",
       "    </tr>\n",
       "    <tr>\n",
       "      <th>571</th>\n",
       "      <td>0.452470</td>\n",
       "      <td>0.848223</td>\n",
       "      <td>0.896740</td>\n",
       "      <td>2.022459</td>\n",
       "    </tr>\n",
       "    <tr>\n",
       "      <th>572</th>\n",
       "      <td>0.470553</td>\n",
       "      <td>0.443268</td>\n",
       "      <td>0.204643</td>\n",
       "      <td>1.091847</td>\n",
       "    </tr>\n",
       "    <tr>\n",
       "      <th>573</th>\n",
       "      <td>0.354489</td>\n",
       "      <td>0.567065</td>\n",
       "      <td>0.781405</td>\n",
       "      <td>1.660105</td>\n",
       "    </tr>\n",
       "  </tbody>\n",
       "</table>\n",
       "<p>574 rows × 4 columns</p>\n",
       "</div>"
      ],
      "text/plain": [
       "            x         y         z         f\n",
       "0    0.876300  0.087160  0.678294  1.741426\n",
       "1    0.506543  0.427771  0.117943  1.028571\n",
       "2    0.469181  0.208947  0.862431  1.539668\n",
       "3    0.997632  0.038999  0.628393  1.821145\n",
       "4    0.680144  0.432733  0.571025  1.691445\n",
       "..        ...       ...       ...       ...\n",
       "569  0.213704  0.183989  0.577722  1.052330\n",
       "570  0.727660  0.021602  0.820556  1.497021\n",
       "571  0.452470  0.848223  0.896740  2.022459\n",
       "572  0.470553  0.443268  0.204643  1.091847\n",
       "573  0.354489  0.567065  0.781405  1.660105\n",
       "\n",
       "[574 rows x 4 columns]"
      ]
     },
     "execution_count": 705,
     "metadata": {},
     "output_type": "execute_result"
    }
   ],
   "source": [
    "df = pd.read_csv(\"data/result_testdata.csv\", delimiter=\",\")\n",
    "df"
   ]
  },
  {
   "attachments": {},
   "cell_type": "markdown",
   "metadata": {},
   "source": [
    "# build the network"
   ]
  },
  {
   "attachments": {},
   "cell_type": "markdown",
   "metadata": {},
   "source": [
    "https://machinelearningmastery.com/develop-your-first-neural-network-with-pytorch-step-by-step/"
   ]
  },
  {
   "cell_type": "code",
   "execution_count": 706,
   "metadata": {},
   "outputs": [],
   "source": [
    "import numpy as np\n",
    "import torch\n",
    "import torch.nn as nn\n",
    "import torch.optim as optim\n",
    "from torch import autograd\n",
    "import math\n",
    "from sklearn.metrics import mean_squared_error"
   ]
  },
  {
   "cell_type": "code",
   "execution_count": 707,
   "metadata": {},
   "outputs": [],
   "source": [
    "X = df.iloc[:,:3]\n",
    "y = df.iloc[:,3]\n",
    "# y = df.iloc[:,:3].sum(axis=1) "
   ]
  },
  {
   "cell_type": "code",
   "execution_count": 708,
   "metadata": {},
   "outputs": [],
   "source": [
    "X = torch.tensor(X.values.astype(np.float32), requires_grad=True)\n",
    "y = torch.tensor(y, dtype=torch.float32).reshape(-1, 1)"
   ]
  },
  {
   "cell_type": "code",
   "execution_count": 709,
   "metadata": {},
   "outputs": [
    {
     "data": {
      "text/plain": [
       "torch.Size([574, 3])"
      ]
     },
     "execution_count": 709,
     "metadata": {},
     "output_type": "execute_result"
    }
   ],
   "source": [
    "X.shape"
   ]
  },
  {
   "cell_type": "code",
   "execution_count": 710,
   "metadata": {},
   "outputs": [
    {
     "data": {
      "text/plain": [
       "torch.Size([574, 1])"
      ]
     },
     "execution_count": 710,
     "metadata": {},
     "output_type": "execute_result"
    }
   ],
   "source": [
    "y.shape"
   ]
  },
  {
   "cell_type": "code",
   "execution_count": 711,
   "metadata": {},
   "outputs": [
    {
     "name": "stdout",
     "output_type": "stream",
     "text": [
      "PimaClassifier(\n",
      "  (hidden1): Linear(in_features=3, out_features=160, bias=True)\n",
      "  (act1): ReLU()\n",
      "  (hidden2): Linear(in_features=160, out_features=80, bias=True)\n",
      "  (act2): ReLU()\n",
      "  (output): Linear(in_features=80, out_features=16, bias=True)\n",
      "  (act_output): Linear(in_features=16, out_features=1, bias=True)\n",
      ")\n"
     ]
    }
   ],
   "source": [
    "class PimaClassifier(nn.Module):\n",
    "    def __init__(self):\n",
    "        super().__init__()\n",
    "        self.hidden1 = nn.Linear(3, 160)\n",
    "        self.act1 = nn.ReLU()\n",
    "        self.hidden2 = nn.Linear(160, 80)\n",
    "        self.act2 = nn.ReLU()\n",
    "        self.output = nn.Linear(80, 16)\n",
    "        self.act_output =  nn.Linear(16, 1)\n",
    " \n",
    "    def forward(self, x):\n",
    "        x = self.act1(self.hidden1(x))\n",
    "        x = self.act2(self.hidden2(x))\n",
    "        x = self.act_output(self.output(x))\n",
    "        return x\n",
    " \n",
    "model = PimaClassifier()\n",
    "print(model)"
   ]
  },
  {
   "cell_type": "code",
   "execution_count": 713,
   "metadata": {},
   "outputs": [
    {
     "name": "stdout",
     "output_type": "stream",
     "text": [
      "tensor([[0.8763, 0.0872, 0.6783],\n",
      "        [0.5065, 0.4278, 0.1179],\n",
      "        [0.4692, 0.2089, 0.8624],\n",
      "        [0.9976, 0.0390, 0.6284],\n",
      "        [0.6801, 0.4327, 0.5710],\n",
      "        [0.5288, 0.2589, 0.6544],\n",
      "        [0.7432, 0.7144, 0.2645],\n",
      "        [0.3437, 0.6037, 0.3529],\n",
      "        [0.1806, 0.1608, 0.3050],\n",
      "        [0.9655, 0.0042, 0.8323]], grad_fn=<CloneBackward0>)\n",
      "tensor([[1.7414],\n",
      "        [1.0286],\n",
      "        [1.5397],\n",
      "        [1.8211],\n",
      "        [1.6914],\n",
      "        [1.4429],\n",
      "        [1.6620],\n",
      "        [1.2481],\n",
      "        [0.7386],\n",
      "        [1.8292]])\n",
      "tensor([[1.7439],\n",
      "        [1.0362],\n",
      "        [1.5405],\n",
      "        [1.8132],\n",
      "        [1.6917],\n",
      "        [1.4408],\n",
      "        [1.6610],\n",
      "        [1.2499],\n",
      "        [0.7446],\n",
      "        [1.8582]], grad_fn=<AddmmBackward0>)\n",
      "tensor([[1.8583, 2.2220, 1.0891],\n",
      "        [0.9633, 0.7823, 0.8988],\n",
      "        [0.9722, 1.1291, 0.9991],\n",
      "        [1.8605, 2.1592, 0.9840],\n",
      "        [1.2633, 0.7933, 0.9584],\n",
      "        [1.0643, 0.8607, 0.9742],\n",
      "        [1.5625, 0.5973, 1.0075],\n",
      "        [0.6865, 0.6707, 0.9928],\n",
      "        [0.3151, 1.4962, 1.0178],\n",
      "        [1.8225, 4.0894, 0.8112]], grad_fn=<TBackward0>)\n",
      "Finished epoch 499, latest loss 0.00010145383566850796\n"
     ]
    }
   ],
   "source": [
    "loss_fn = nn.MSELoss()  # binary cross entropy\n",
    "optimizer = optim.Adam(model.parameters(), lr=0.001)\n",
    "\n",
    "n_epochs = 500\n",
    "batch_size = 10\n",
    "\n",
    "for epoch in range(n_epochs):\n",
    "    for i in range(0, len(X), batch_size):\n",
    "        Xbatch = X[i:i+batch_size].clone()\n",
    "        # Xbatch.requires_grad=True\n",
    "        y_pred = model(Xbatch)\n",
    "        ybatch = y[i:i+batch_size]\n",
    "        f_x_t = autograd.grad(y_pred,Xbatch,torch.ones([Xbatch.shape[0], 1]), retain_graph=True, create_graph=True)[0] #first derivative\n",
    "        loss = loss_fn(y_pred, ybatch)\n",
    "        optimizer.zero_grad()\n",
    "        loss.backward()\n",
    "        optimizer.step()\n",
    "        if epoch==n_epochs-1 and i==0:\n",
    "            print(Xbatch)\n",
    "            print(ybatch)\n",
    "            print(y_pred)\n",
    "            print(f_x_t)\n",
    "            print(f'Finished epoch {epoch}, latest loss {loss}')"
   ]
  },
  {
   "cell_type": "code",
   "execution_count": 714,
   "metadata": {},
   "outputs": [
    {
     "name": "stdout",
     "output_type": "stream",
     "text": [
      "Train Score: 0.01 RMSE\n"
     ]
    }
   ],
   "source": [
    "# compute accuracy (no_grad is optional)\n",
    "# with torch.no_grad():\n",
    "#     y_pred = model(X)\n",
    "\n",
    "X.requires_grad_()\n",
    "X.retain_grad()\n",
    "y_pred = model(X)\n",
    "\n",
    "trainScore = math.sqrt(mean_squared_error(y_pred.detach().numpy(),y.detach().numpy()))\n",
    "print('Train Score: %.2f RMSE' % (trainScore))"
   ]
  },
  {
   "attachments": {},
   "cell_type": "markdown",
   "metadata": {},
   "source": [
    "# test the auto gradient"
   ]
  },
  {
   "attachments": {},
   "cell_type": "markdown",
   "metadata": {},
   "source": [
    "$$\n",
    "f=x^2 + \\sqrt {y} + z\n",
    "$$\n",
    "\n",
    "$$\n",
    "f_x'=2x\n",
    "$$\n",
    "\n",
    "$$\n",
    "f_y'=\\frac{1}{2} * y ^ {-\\frac{1}{2}}\n",
    "$$\n",
    "\n",
    "$$\n",
    "f_z'=1\n",
    "$$"
   ]
  },
  {
   "cell_type": "code",
   "execution_count": 715,
   "metadata": {},
   "outputs": [
    {
     "data": {
      "text/plain": [
       "tensor([0.8763, 0.0872, 0.6783], grad_fn=<SelectBackward0>)"
      ]
     },
     "execution_count": 715,
     "metadata": {},
     "output_type": "execute_result"
    }
   ],
   "source": [
    "X[0]"
   ]
  },
  {
   "cell_type": "code",
   "execution_count": 716,
   "metadata": {},
   "outputs": [
    {
     "data": {
      "text/plain": [
       "tensor([1.7414])"
      ]
     },
     "execution_count": 716,
     "metadata": {},
     "output_type": "execute_result"
    }
   ],
   "source": [
    "y[0]"
   ]
  },
  {
   "cell_type": "code",
   "execution_count": 725,
   "metadata": {},
   "outputs": [
    {
     "data": {
      "text/plain": [
       "tensor([1.7590], grad_fn=<AddBackward0>)"
      ]
     },
     "execution_count": 725,
     "metadata": {},
     "output_type": "execute_result"
    }
   ],
   "source": [
    "model(X[0])"
   ]
  },
  {
   "cell_type": "code",
   "execution_count": 724,
   "metadata": {},
   "outputs": [
    {
     "data": {
      "text/plain": [
       "tensor([1.8718, 2.0428, 1.0036], grad_fn=<SelectBackward0>)"
      ]
     },
     "execution_count": 724,
     "metadata": {},
     "output_type": "execute_result"
    }
   ],
   "source": [
    "autograd.grad(model(X),X,torch.ones([X.shape[0], 1]), retain_graph=True, create_graph=True)[0][0] #first derivative"
   ]
  },
  {
   "attachments": {},
   "cell_type": "markdown",
   "metadata": {},
   "source": [
    "good match!"
   ]
  }
 ],
 "metadata": {
  "kernelspec": {
   "display_name": "Python 3",
   "language": "python",
   "name": "python3"
  },
  "language_info": {
   "codemirror_mode": {
    "name": "ipython",
    "version": 3
   },
   "file_extension": ".py",
   "mimetype": "text/x-python",
   "name": "python",
   "nbconvert_exporter": "python",
   "pygments_lexer": "ipython3",
   "version": "3.10.6"
  },
  "orig_nbformat": 4
 },
 "nbformat": 4,
 "nbformat_minor": 2
}
