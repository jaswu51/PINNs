{
 "cells": [
  {
   "cell_type": "code",
   "execution_count": 17,
   "metadata": {},
   "outputs": [],
   "source": [
    "import torch"
   ]
  },
  {
   "cell_type": "code",
   "execution_count": 18,
   "metadata": {},
   "outputs": [],
   "source": [
    "x = torch.rand((5, 5), requires_grad=True)"
   ]
  },
  {
   "cell_type": "code",
   "execution_count": 19,
   "metadata": {},
   "outputs": [
    {
     "data": {
      "text/plain": [
       "tensor([[0.7838, 0.3375, 0.6248, 0.1955, 0.5423],\n",
       "        [0.8820, 0.1900, 0.4206, 0.2488, 0.5566],\n",
       "        [0.9303, 0.4240, 0.1396, 0.0845, 0.4728],\n",
       "        [0.8989, 0.5940, 0.3133, 0.2694, 0.0540],\n",
       "        [0.9903, 0.7993, 0.1697, 0.8432, 0.5812]], requires_grad=True)"
      ]
     },
     "execution_count": 19,
     "metadata": {},
     "output_type": "execute_result"
    }
   ],
   "source": [
    "x"
   ]
  },
  {
   "cell_type": "code",
   "execution_count": 20,
   "metadata": {},
   "outputs": [],
   "source": [
    "y=x**2"
   ]
  },
  {
   "cell_type": "code",
   "execution_count": 21,
   "metadata": {},
   "outputs": [],
   "source": [
    "external_grad = torch.ones(5,5)\n",
    "y.backward(gradient=external_grad)"
   ]
  },
  {
   "cell_type": "code",
   "execution_count": 22,
   "metadata": {},
   "outputs": [
    {
     "data": {
      "text/plain": [
       "tensor([[1.5675, 0.6751, 1.2495, 0.3911, 1.0847],\n",
       "        [1.7640, 0.3800, 0.8412, 0.4976, 1.1131],\n",
       "        [1.8607, 0.8479, 0.2792, 0.1689, 0.9456],\n",
       "        [1.7978, 1.1880, 0.6266, 0.5387, 0.1080],\n",
       "        [1.9807, 1.5985, 0.3393, 1.6863, 1.1625]])"
      ]
     },
     "execution_count": 22,
     "metadata": {},
     "output_type": "execute_result"
    }
   ],
   "source": [
    "x.grad"
   ]
  }
 ],
 "metadata": {
  "kernelspec": {
   "display_name": "Python 3",
   "language": "python",
   "name": "python3"
  },
  "language_info": {
   "codemirror_mode": {
    "name": "ipython",
    "version": 3
   },
   "file_extension": ".py",
   "mimetype": "text/x-python",
   "name": "python",
   "nbconvert_exporter": "python",
   "pygments_lexer": "ipython3",
   "version": "3.10.6"
  },
  "orig_nbformat": 4
 },
 "nbformat": 4,
 "nbformat_minor": 2
}
